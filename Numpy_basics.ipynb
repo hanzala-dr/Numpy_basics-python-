{
  "nbformat": 4,
  "nbformat_minor": 0,
  "metadata": {
    "colab": {
      "provenance": []
    },
    "kernelspec": {
      "name": "python3",
      "display_name": "Python 3"
    },
    "language_info": {
      "name": "python"
    }
  },
  "cells": [
    {
      "cell_type": "markdown",
      "source": [
        "#Task-1(Array creation)"
      ],
      "metadata": {
        "id": "xd70aSrXZ_ym"
      }
    },
    {
      "cell_type": "code",
      "source": [
        "import numpy as np"
      ],
      "metadata": {
        "id": "9E5r0AuQaavW"
      },
      "execution_count": 4,
      "outputs": []
    },
    {
      "cell_type": "code",
      "source": [
        "a=np.arange(0,10)\n",
        "print(a)"
      ],
      "metadata": {
        "colab": {
          "base_uri": "https://localhost:8080/"
        },
        "id": "jP8PDz-cZ_vx",
        "outputId": "b8e61185-7825-47c9-842b-890aaad9e1f1"
      },
      "execution_count": 6,
      "outputs": [
        {
          "output_type": "stream",
          "name": "stdout",
          "text": [
            "[0 1 2 3 4 5 6 7 8 9]\n"
          ]
        }
      ]
    },
    {
      "cell_type": "code",
      "execution_count": 7,
      "metadata": {
        "colab": {
          "base_uri": "https://localhost:8080/"
        },
        "id": "gfpSos0iZ5Zb",
        "outputId": "e6581495-0526-4a7a-a472-b109a54fc4b0"
      },
      "outputs": [
        {
          "output_type": "stream",
          "name": "stdout",
          "text": [
            "[[7 7 7]\n",
            " [7 7 7]\n",
            " [7 7 7]]\n"
          ]
        }
      ],
      "source": [
        "b=np.full((3,3),7)\n",
        "print(b)"
      ]
    },
    {
      "cell_type": "markdown",
      "source": [
        "#Task-2(Array Operations)"
      ],
      "metadata": {
        "id": "Rbu3Cy22bJWg"
      }
    },
    {
      "cell_type": "code",
      "source": [
        "c=np.array([[1,2,3],[4,5,6],[7,8,9]])\n",
        "\n",
        "d=np.array([[10,11,12],[13,14,15],[16,17,18]])\n",
        "\n",
        "add= np.add(c,d)\n",
        "multiply=np.multiply(c,d)\n",
        "print(\"Addition:\",add)\n",
        "print(\"Multiplication:\",multiply)\n"
      ],
      "metadata": {
        "colab": {
          "base_uri": "https://localhost:8080/"
        },
        "id": "jn3ZUD7ybFIh",
        "outputId": "fb5b7075-fe0f-4e69-a29e-c2230b1a0362"
      },
      "execution_count": 10,
      "outputs": [
        {
          "output_type": "stream",
          "name": "stdout",
          "text": [
            "Addition: [[11 13 15]\n",
            " [17 19 21]\n",
            " [23 25 27]]\n",
            "Multiplication: [[ 10  22  36]\n",
            " [ 52  70  90]\n",
            " [112 136 162]]\n"
          ]
        }
      ]
    },
    {
      "cell_type": "code",
      "source": [
        "a= np.random.randint(10,50,16)\n",
        "a=a.reshape(4,4)\n",
        "print(\"4 x 4 matrix:\")\n",
        "print(a)\n",
        "print(\"Maximum value:\",np.max(a))\n",
        "print(\"Minimum value:\",np.min(a))"
      ],
      "metadata": {
        "colab": {
          "base_uri": "https://localhost:8080/"
        },
        "id": "WZu4Vmt8hBCh",
        "outputId": "8984f918-5e56-466e-d10f-52303239f17a"
      },
      "execution_count": 17,
      "outputs": [
        {
          "output_type": "stream",
          "name": "stdout",
          "text": [
            "4 x 4 matrix:\n",
            "[[49 21 18 16]\n",
            " [26 28 46 32]\n",
            " [48 33 43 20]\n",
            " [48 37 18 46]]\n",
            "Maximum value: 49\n",
            "Minimum value: 16\n"
          ]
        }
      ]
    },
    {
      "cell_type": "markdown",
      "source": [
        "#Task-3(Indexing and slicing)"
      ],
      "metadata": {
        "id": "r7LK0VMQh-Da"
      }
    },
    {
      "cell_type": "code",
      "source": [
        "array = np.arange(1, 26).reshape(5, 5)\n",
        "\n",
        "print(\"Original 5x5 array:\")\n",
        "print(array)\n",
        "\n",
        "middle_sub_array = array[1:4, 1:4]\n",
        "\n",
        "print(\"\\nMiddle 3x3 sub-array:\")\n",
        "print(middle_sub_array)\n"
      ],
      "metadata": {
        "colab": {
          "base_uri": "https://localhost:8080/"
        },
        "id": "pwE4_yXJhxbE",
        "outputId": "eef75999-69d6-48b9-8ad7-6525c26658b1"
      },
      "execution_count": 22,
      "outputs": [
        {
          "output_type": "stream",
          "name": "stdout",
          "text": [
            "Original 5x5 array:\n",
            "[[ 1  2  3  4  5]\n",
            " [ 6  7  8  9 10]\n",
            " [11 12 13 14 15]\n",
            " [16 17 18 19 20]\n",
            " [21 22 23 24 25]]\n",
            "\n",
            "Middle 3x3 sub-array:\n",
            "[[ 7  8  9]\n",
            " [12 13 14]\n",
            " [17 18 19]]\n"
          ]
        }
      ]
    },
    {
      "cell_type": "code",
      "source": [
        "a= np.random.randint(10,50,16)\n",
        "a=a.reshape(4,4)\n",
        "print(\"Old array:\\n\",a)\n",
        "new_a= a[0,:]=0    #set first row to zero (all elements)\n",
        "print(\"New array:\\n\",a)"
      ],
      "metadata": {
        "colab": {
          "base_uri": "https://localhost:8080/"
        },
        "id": "6T7uUHDViLsE",
        "outputId": "0c0a125a-7966-49c1-eb55-0cc6954fa156"
      },
      "execution_count": 29,
      "outputs": [
        {
          "output_type": "stream",
          "name": "stdout",
          "text": [
            "Old array:\n",
            " [[11 49 42 11]\n",
            " [14 43 34 22]\n",
            " [21 16 17 24]\n",
            " [14 11 14 19]]\n",
            "New array:\n",
            " [[ 0  0  0  0]\n",
            " [14 43 34 22]\n",
            " [21 16 17 24]\n",
            " [14 11 14 19]]\n"
          ]
        }
      ]
    },
    {
      "cell_type": "markdown",
      "source": [
        "#Task-4(Mathematical operations)"
      ],
      "metadata": {
        "id": "nWJzbkJBjX3u"
      }
    },
    {
      "cell_type": "code",
      "source": [
        "random_array=np.random.randint(1000,size=(10,10))\n",
        "print(random_array)\n",
        "mean=np.mean(random_array)\n",
        "print(\"Mean:\",mean)\n",
        "median=np.median(random_array)\n",
        "print(\"Median:\",median)\n",
        "std=np.std(random_array)\n",
        "print(\"Standard Deviation:\",std)"
      ],
      "metadata": {
        "colab": {
          "base_uri": "https://localhost:8080/"
        },
        "id": "uUgmphAVje9M",
        "outputId": "79fcf231-ac45-4881-f331-e4816df1b89e"
      },
      "execution_count": 31,
      "outputs": [
        {
          "output_type": "stream",
          "name": "stdout",
          "text": [
            "[[ 30 297 598 105 401 272 126 265 411 948]\n",
            " [619 120 716 296 389 273  98 518 598 373]\n",
            " [415 971 637 476 799 250 182 366 656 386]\n",
            " [884 104 430 271 463 330 939 710 166 445]\n",
            " [589 331 841 326  32 288 522 241 290 205]\n",
            " [569 405 551 994 305 536 299 433 177 153]\n",
            " [319 107 683 439 923 742 889 241 820 534]\n",
            " [284 988 940 189 837 775 913  41 132 850]\n",
            " [827 501 246 439  98 284 119 548 136 349]\n",
            " [704 962 209 947 675 501 972 473 447 659]]\n",
            "Mean: 471.62\n",
            "Median: 431.5\n",
            "Standard Deviation: 274.25272213781216\n"
          ]
        }
      ]
    },
    {
      "cell_type": "code",
      "source": [
        "array1=np.array([1,2,3,4])\n",
        "array2=np.array([5,6,7,8])\n",
        "print(\"Array1:\\n\",array1)\n",
        "print(\"Array2:\\n\",array2)\n",
        "result=np.dot(array1,array2)\n",
        "print(\"Dot product of array1 and array2:\\n\",result)"
      ],
      "metadata": {
        "colab": {
          "base_uri": "https://localhost:8080/"
        },
        "id": "iRgnlpp1kqs1",
        "outputId": "3c8c06f4-cec9-4e88-8fdf-cdbdf7aff2cb"
      },
      "execution_count": 33,
      "outputs": [
        {
          "output_type": "stream",
          "name": "stdout",
          "text": [
            "Array1:\n",
            " [1 2 3 4]\n",
            "Array2:\n",
            " [5 6 7 8]\n",
            "Dot product of array1 and array2:\n",
            " 70\n"
          ]
        }
      ]
    },
    {
      "cell_type": "markdown",
      "source": [
        "#Task-5(Broadcasting)"
      ],
      "metadata": {
        "id": "PaEbCHEzleTz"
      }
    },
    {
      "cell_type": "code",
      "source": [
        "array_2d = np.zeros((5, 5))\n",
        "\n",
        "array_1d = np.array([1, 2, 3, 4, 5])\n",
        "\n",
        "print(\"Original 5x5 array of zeros:\")\n",
        "print(array_2d)\n",
        "\n",
        "print(\"\\n1D array:\")\n",
        "print(array_1d)\n",
        "\n",
        "# Adding the 1D array to each row of the 2D array using broadcasting\n",
        "array_2d += array_1d\n",
        "\n",
        "print(\"\\n5x5 array after adding the 1D array to each row:\")\n",
        "print(array_2d)\n"
      ],
      "metadata": {
        "colab": {
          "base_uri": "https://localhost:8080/"
        },
        "id": "whUZb10hll4g",
        "outputId": "a65103d9-1183-4690-9363-528d5d4ade4f"
      },
      "execution_count": 34,
      "outputs": [
        {
          "output_type": "stream",
          "name": "stdout",
          "text": [
            "Original 5x5 array of zeros:\n",
            "[[0. 0. 0. 0. 0.]\n",
            " [0. 0. 0. 0. 0.]\n",
            " [0. 0. 0. 0. 0.]\n",
            " [0. 0. 0. 0. 0.]\n",
            " [0. 0. 0. 0. 0.]]\n",
            "\n",
            "1D array:\n",
            "[1 2 3 4 5]\n",
            "\n",
            "5x5 array after adding the 1D array to each row:\n",
            "[[1. 2. 3. 4. 5.]\n",
            " [1. 2. 3. 4. 5.]\n",
            " [1. 2. 3. 4. 5.]\n",
            " [1. 2. 3. 4. 5.]\n",
            " [1. 2. 3. 4. 5.]]\n"
          ]
        }
      ]
    },
    {
      "cell_type": "code",
      "source": [
        "array = np.array([[1, 2, 3],\n",
        "                  [4, 5, 6],\n",
        "                  [7, 8, 9]])\n",
        "\n",
        "scaler_value=2\n",
        "print(\"Original array:\")\n",
        "print(array)\n",
        "result= array-scaler_value\n",
        "print(\"Result of subtraction:\")\n",
        "print(result)"
      ],
      "metadata": {
        "colab": {
          "base_uri": "https://localhost:8080/"
        },
        "id": "wVgP5O6ylrmX",
        "outputId": "903c7525-36dc-428f-847b-b92952aeeccb"
      },
      "execution_count": 36,
      "outputs": [
        {
          "output_type": "stream",
          "name": "stdout",
          "text": [
            "Original array:\n",
            "[[1 2 3]\n",
            " [4 5 6]\n",
            " [7 8 9]]\n",
            "Result of subtraction:\n",
            "[[-1  0  1]\n",
            " [ 2  3  4]\n",
            " [ 5  6  7]]\n"
          ]
        }
      ]
    },
    {
      "cell_type": "markdown",
      "source": [
        "#Task-6(Aggregations)"
      ],
      "metadata": {
        "id": "uVHKYYormsxj"
      }
    },
    {
      "cell_type": "code",
      "source": [
        "a= np.random.randint(1,10,36)\n",
        "a=a.reshape(6,6)\n",
        "print(\"6 x 6 matrix:\")\n",
        "print(a)\n",
        "print(\"Sum of all elements:\",np.sum(a))"
      ],
      "metadata": {
        "colab": {
          "base_uri": "https://localhost:8080/"
        },
        "id": "JQaQq8fdmxAW",
        "outputId": "d6b22e9d-cc92-4c35-fd9a-637e70849bcb"
      },
      "execution_count": 37,
      "outputs": [
        {
          "output_type": "stream",
          "name": "stdout",
          "text": [
            "6 x 6 matrix:\n",
            "[[5 5 7 8 7 9]\n",
            " [7 5 6 3 8 1]\n",
            " [9 2 1 8 2 3]\n",
            " [8 9 3 2 5 6]\n",
            " [9 8 2 3 8 6]\n",
            " [7 1 7 2 7 9]]\n",
            "Sum of all elements: 198\n"
          ]
        }
      ]
    },
    {
      "cell_type": "code",
      "source": [
        "x=np.random.randint(1,100,50)\n",
        "print(\"50 random values:\")\n",
        "print(x)\n",
        "print(\"Maximum value:\",np.max(x))\n",
        "print(\"index of maximum value:\",np.argmax(x))"
      ],
      "metadata": {
        "colab": {
          "base_uri": "https://localhost:8080/"
        },
        "id": "334RxUGQmxUH",
        "outputId": "dfca8456-6820-4d95-8321-576f0e4a8a61"
      },
      "execution_count": 42,
      "outputs": [
        {
          "output_type": "stream",
          "name": "stdout",
          "text": [
            "50 random values:\n",
            "[61 73 80 61 10 92 35 21 63  7 30 77 25  9 71 64 31 33 32 69 31 91 49 14\n",
            " 17 21 23 92 88 31 45 10 47 10 17 51 53 81  9 57  4 46 29 82 89 60 10 94\n",
            " 82 26]\n",
            "Maximum value: 94\n",
            "index of maximum value: 47\n"
          ]
        }
      ]
    },
    {
      "cell_type": "markdown",
      "source": [
        "#Task-7(Reshaping and Flattening)"
      ],
      "metadata": {
        "id": "qQFwf2sXonuO"
      }
    },
    {
      "cell_type": "code",
      "source": [
        "a= np.random.randint(1,10,12)\n",
        "print(\"1D array:\")\n",
        "print(a)\n",
        "b=a.reshape(3,4)\n",
        "print(\"2D array:\")\n",
        "print(b)"
      ],
      "metadata": {
        "colab": {
          "base_uri": "https://localhost:8080/"
        },
        "id": "-_ZeD9WhozG8",
        "outputId": "fabfd7b6-01f9-4bce-aa78-8b1a3d81f0ef"
      },
      "execution_count": 44,
      "outputs": [
        {
          "output_type": "stream",
          "name": "stdout",
          "text": [
            "1D array:\n",
            "[5 6 4 7 3 9 1 1 7 2 2 5]\n",
            "2D array:\n",
            "[[5 6 4 7]\n",
            " [3 9 1 1]\n",
            " [7 2 2 5]]\n"
          ]
        }
      ]
    },
    {
      "cell_type": "code",
      "source": [
        "b=np.array([[5, 6, 4, 7],\n",
        "            [3, 9, 1, 1],\n",
        "            [7, 2, 2, 5]])\n",
        "print(\"2D array:\")\n",
        "print(b)\n",
        "b=a.flatten()\n",
        "print(\"Flattened array:\")\n",
        "print(b)"
      ],
      "metadata": {
        "colab": {
          "base_uri": "https://localhost:8080/"
        },
        "id": "jubLZAR6ozZ_",
        "outputId": "ce831f3d-f4e4-4541-f6b9-b74b6dac1871"
      },
      "execution_count": 48,
      "outputs": [
        {
          "output_type": "stream",
          "name": "stdout",
          "text": [
            "2D array:\n",
            "[[5 6 4 7]\n",
            " [3 9 1 1]\n",
            " [7 2 2 5]]\n",
            "Flattened array:\n",
            "[5 6 4 7 3 9 1 1 7 2 2 5]\n"
          ]
        }
      ]
    },
    {
      "cell_type": "markdown",
      "source": [
        "#Task-8(Linear Algebra)"
      ],
      "metadata": {
        "id": "QYE6UX2Wp2Fi"
      }
    },
    {
      "cell_type": "code",
      "source": [
        "A = np.array([[2, 3],\n",
        "              [1, 2]])\n",
        "\n",
        "b = np.array([8, 5])\n",
        "solution = np.linalg.solve(A, b)\n",
        "\n",
        "print(\"Solution of the system of linear equations:\")\n",
        "print(solution)\n"
      ],
      "metadata": {
        "colab": {
          "base_uri": "https://localhost:8080/"
        },
        "id": "DenC3ybNp6Kj",
        "outputId": "ab75609c-f697-4b09-bf1a-516d94890461"
      },
      "execution_count": 49,
      "outputs": [
        {
          "output_type": "stream",
          "name": "stdout",
          "text": [
            "Solution of the system of linear equations:\n",
            "[1. 2.]\n"
          ]
        }
      ]
    },
    {
      "cell_type": "code",
      "source": [
        "matrix = np.array([[1, 2, 3],\n",
        "                   [0, 1, 4],\n",
        "                   [5, 6, 0]])\n",
        "\n",
        "print(\"Original 3x3 matrix:\")\n",
        "print(matrix)\n",
        "\n",
        "det = np.linalg.det(matrix)\n",
        "\n",
        "if det != 0:\n",
        "    inverse_matrix = np.linalg.inv(matrix)\n",
        "    print(\"\\nInverse of the matrix:\")\n",
        "    print(inverse_matrix)\n",
        "else:\n",
        "    print(\"\\nThe matrix is not invertible (determinant is zero).\")\n"
      ],
      "metadata": {
        "colab": {
          "base_uri": "https://localhost:8080/"
        },
        "id": "yFVIaQYNqIZO",
        "outputId": "40e3a36f-bf85-4111-cafa-34940698acce"
      },
      "execution_count": 50,
      "outputs": [
        {
          "output_type": "stream",
          "name": "stdout",
          "text": [
            "Original 3x3 matrix:\n",
            "[[1 2 3]\n",
            " [0 1 4]\n",
            " [5 6 0]]\n",
            "\n",
            "Inverse of the matrix:\n",
            "[[-24.  18.   5.]\n",
            " [ 20. -15.  -4.]\n",
            " [ -5.   4.   1.]]\n"
          ]
        }
      ]
    },
    {
      "cell_type": "markdown",
      "source": [
        "#Task-9(Statistical Analysis)"
      ],
      "metadata": {
        "id": "_2O8yE6fqX-I"
      }
    },
    {
      "cell_type": "code",
      "source": [
        "random_array=np.random.randint(10000,size=(100,100))\n",
        "print(random_array)\n",
        "\n",
        "correlation_coefficient = np.corrcoef(random_array)\n",
        "\n",
        "print(\"\\nCorrelation coefficient matrix:\")\n",
        "print(correlation_coefficient)"
      ],
      "metadata": {
        "colab": {
          "base_uri": "https://localhost:8080/"
        },
        "id": "wGaFSZ55qnv_",
        "outputId": "006069f3-cad1-47ac-a924-bb9d31ae7b49"
      },
      "execution_count": 52,
      "outputs": [
        {
          "output_type": "stream",
          "name": "stdout",
          "text": [
            "[[4691 2424 1040 ... 8251 2176 7490]\n",
            " [ 298 1607 9396 ... 5173  941 5124]\n",
            " [1396 8104 1040 ...  470 6549  509]\n",
            " ...\n",
            " [3988  286 1163 ... 3288 6879 4236]\n",
            " [6798   27 9827 ... 7823 7288 5320]\n",
            " [7236 6682 8207 ... 4528 5778 4928]]\n",
            "\n",
            "Correlation coefficient matrix:\n",
            "[[ 1.          0.05541437  0.03424936 ... -0.02580252  0.06849302\n",
            "  -0.12543764]\n",
            " [ 0.05541437  1.          0.01262934 ...  0.01924666  0.04765806\n",
            "  -0.27463141]\n",
            " [ 0.03424936  0.01262934  1.         ...  0.09582525 -0.01578762\n",
            "  -0.01974293]\n",
            " ...\n",
            " [-0.02580252  0.01924666  0.09582525 ...  1.         -0.05935006\n",
            "  -0.08127749]\n",
            " [ 0.06849302  0.04765806 -0.01578762 ... -0.05935006  1.\n",
            "  -0.21273791]\n",
            " [-0.12543764 -0.27463141 -0.01974293 ... -0.08127749 -0.21273791\n",
            "   1.        ]]\n"
          ]
        }
      ]
    },
    {
      "cell_type": "code",
      "source": [
        "array = np.random.randint(20, size=20)\n",
        "\n",
        "print(\"1D array:\")\n",
        "print(array)\n",
        "\n",
        "cumulative_sum= np.cumsum(array)\n",
        "\n",
        "print(\"\\nCumulative sum of the array:\")\n",
        "print(cumulative_sum)"
      ],
      "metadata": {
        "colab": {
          "base_uri": "https://localhost:8080/"
        },
        "id": "2J7r8X0qqpUH",
        "outputId": "58d56ff4-a26a-40fa-ef89-f43d072975e4"
      },
      "execution_count": 57,
      "outputs": [
        {
          "output_type": "stream",
          "name": "stdout",
          "text": [
            "1D array:\n",
            "[ 2  4 13  6 11  2 18 14  0  9 11 18 16  3  5 11  3 14 18 14]\n",
            "\n",
            "Cumulative sum of the array:\n",
            "[  2   6  19  25  36  38  56  70  70  79  90 108 124 127 132 143 146 160\n",
            " 178 192]\n"
          ]
        }
      ]
    },
    {
      "cell_type": "markdown",
      "source": [
        "#Task-10(Advanced Indexing)"
      ],
      "metadata": {
        "id": "gq6Q80zbrsYA"
      }
    },
    {
      "cell_type": "markdown",
      "source": [
        "##**Note:- **Important Topic for future Machine Learning"
      ],
      "metadata": {
        "id": "IFtsakNQsP_i"
      }
    },
    {
      "cell_type": "code",
      "source": [
        "matrix = np.random.randint(1, 10, size=(4, 4))\n",
        "\n",
        "print(\"Original 4x4 matrix:\")\n",
        "print(matrix)\n",
        "\n",
        "# Using boolean indexing to set all elements greater than 5 to -1\n",
        "matrix[matrix > 5] = -1\n",
        "\n",
        "print(\"\\n4x4 matrix after setting elements greater than 5 to -1:\")\n",
        "print(matrix)\n"
      ],
      "metadata": {
        "colab": {
          "base_uri": "https://localhost:8080/"
        },
        "id": "aTcgTTVpr5GZ",
        "outputId": "1b242133-d9bb-48e0-9019-1052ca3839bd"
      },
      "execution_count": 58,
      "outputs": [
        {
          "output_type": "stream",
          "name": "stdout",
          "text": [
            "Original 4x4 matrix:\n",
            "[[1 4 4 3]\n",
            " [5 9 8 4]\n",
            " [9 3 6 8]\n",
            " [4 6 1 3]]\n",
            "\n",
            "4x4 matrix after setting elements greater than 5 to -1:\n",
            "[[ 1  4  4  3]\n",
            " [ 5 -1 -1  4]\n",
            " [-1  3 -1 -1]\n",
            " [ 4 -1  1  3]]\n"
          ]
        }
      ]
    },
    {
      "cell_type": "code",
      "source": [
        "import numpy as np\n",
        "\n",
        "\n",
        "array = np.arange(1,26).reshape(5, 5)\n",
        "\n",
        "print(\"Original 5x5 array:\")\n",
        "print(array)\n",
        "\n",
        "# 1. Select rows where the sum of elements in the row is greater than 15\n",
        "row_sums = array.sum(axis=1)\n",
        "rows_to_select = np.where(row_sums > 15)[0]\n",
        "\n",
        "# 2. Select columns where the mean of elements in the column is even\n",
        "column_means = array.mean(axis=0)\n",
        "columns_to_select = np.where(column_means % 2 == 0)[0]\n",
        "\n",
        "# Extracting rows and columns based on conditions\n",
        "selected_rows = array[rows_to_select, :]\n",
        "selected_columns = array[:, columns_to_select]\n",
        "\n",
        "print(\"\\nRows where the sum of elements is greater than 15:\")\n",
        "print(selected_rows)\n",
        "\n",
        "print(\"\\nColumns where the mean of elements is even:\")\n",
        "print(selected_columns)\n"
      ],
      "metadata": {
        "colab": {
          "base_uri": "https://localhost:8080/"
        },
        "id": "EIK1MwKgr6pv",
        "outputId": "ce0018d9-1575-4f3e-ff1c-ab68992565b1"
      },
      "execution_count": 67,
      "outputs": [
        {
          "output_type": "stream",
          "name": "stdout",
          "text": [
            "Original 5x5 array:\n",
            "[[ 1  2  3  4  5]\n",
            " [ 6  7  8  9 10]\n",
            " [11 12 13 14 15]\n",
            " [16 17 18 19 20]\n",
            " [21 22 23 24 25]]\n",
            "\n",
            "Rows where the sum of elements is greater than 15:\n",
            "[[ 6  7  8  9 10]\n",
            " [11 12 13 14 15]\n",
            " [16 17 18 19 20]\n",
            " [21 22 23 24 25]]\n",
            "\n",
            "Columns where the mean of elements is even:\n",
            "[[ 2  4]\n",
            " [ 7  9]\n",
            " [12 14]\n",
            " [17 19]\n",
            " [22 24]]\n"
          ]
        }
      ]
    }
  ]
}